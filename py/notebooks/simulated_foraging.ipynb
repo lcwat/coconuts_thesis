{
 "cells": [
  {
   "cell_type": "markdown",
   "id": "c3406e13",
   "metadata": {},
   "source": [
    "#### Simulated foraging\n",
    "Based on heuristics described in the proposal, I explore the viability, performance, and appearance of different combinations of heuristics influencing coconut acquisition strategy. In this notebook, I provide the code used to assemble and run the simulations in python. "
   ]
  },
  {
   "cell_type": "code",
   "execution_count": null,
   "id": "33171b64",
   "metadata": {},
   "outputs": [
    {
     "name": "stderr",
     "output_type": "stream",
     "text": [
      "Exception ignored in: <bound method IPythonKernel._clean_thread_parent_frames of <ipykernel.ipkernel.IPythonKernel object at 0x000002582D6D1FD0>>\n",
      "Traceback (most recent call last):\n",
      "  File \"c:\\Users\\lcwat\\coconuts\\coconuts_thesis\\.venv\\Lib\\site-packages\\ipykernel\\ipkernel.py\", line 796, in _clean_thread_parent_frames\n",
      "    active_threads = {thread.ident for thread in threading.enumerate()}\n",
      "  File \"C:\\Users\\lcwat\\AppData\\Local\\Programs\\Python\\Python313\\Lib\\threading.py\", line 1477, in enumerate\n",
      "    def enumerate():\n",
      "KeyboardInterrupt: \n"
     ]
    }
   ],
   "source": [
    "import pandas as pd\n",
    "import numpy as np\n",
    "from tqdm import tqdm\n",
    "import matplotlib.pyplot as plt"
   ]
  },
  {
   "cell_type": "code",
   "execution_count": 3,
   "id": "22e690b1",
   "metadata": {},
   "outputs": [
    {
     "data": {
      "application/vnd.microsoft.datawrangler.viewer.v0+json": {
       "columns": [
        {
         "name": "index",
         "rawType": "int64",
         "type": "integer"
        },
        {
         "name": "obj_ID",
         "rawType": "int64",
         "type": "integer"
        },
        {
         "name": "point_value",
         "rawType": "int64",
         "type": "integer"
        },
        {
         "name": "x",
         "rawType": "float64",
         "type": "float"
        },
        {
         "name": "y",
         "rawType": "float64",
         "type": "float"
        },
        {
         "name": "level",
         "rawType": "int64",
         "type": "integer"
        }
       ],
       "ref": "7d8cd4ad-ae46-40e6-9fa7-744fcd53a287",
       "rows": [
        [
         "0",
         "1",
         "2",
         "15.0",
         "23.5",
         "1"
        ],
        [
         "1",
         "2",
         "2",
         "15.0",
         "20.0",
         "1"
        ],
        [
         "2",
         "3",
         "2",
         "10.0",
         "20.0",
         "1"
        ],
        [
         "3",
         "4",
         "2",
         "20.0",
         "20.0",
         "1"
        ],
        [
         "4",
         "5",
         "2",
         "12.5",
         "17.5",
         "1"
        ]
       ],
       "shape": {
        "columns": 5,
        "rows": 5
       }
      },
      "text/html": [
       "<div>\n",
       "<style scoped>\n",
       "    .dataframe tbody tr th:only-of-type {\n",
       "        vertical-align: middle;\n",
       "    }\n",
       "\n",
       "    .dataframe tbody tr th {\n",
       "        vertical-align: top;\n",
       "    }\n",
       "\n",
       "    .dataframe thead th {\n",
       "        text-align: right;\n",
       "    }\n",
       "</style>\n",
       "<table border=\"1\" class=\"dataframe\">\n",
       "  <thead>\n",
       "    <tr style=\"text-align: right;\">\n",
       "      <th></th>\n",
       "      <th>obj_ID</th>\n",
       "      <th>point_value</th>\n",
       "      <th>x</th>\n",
       "      <th>y</th>\n",
       "      <th>level</th>\n",
       "    </tr>\n",
       "  </thead>\n",
       "  <tbody>\n",
       "    <tr>\n",
       "      <th>0</th>\n",
       "      <td>1</td>\n",
       "      <td>2</td>\n",
       "      <td>15.0</td>\n",
       "      <td>23.5</td>\n",
       "      <td>1</td>\n",
       "    </tr>\n",
       "    <tr>\n",
       "      <th>1</th>\n",
       "      <td>2</td>\n",
       "      <td>2</td>\n",
       "      <td>15.0</td>\n",
       "      <td>20.0</td>\n",
       "      <td>1</td>\n",
       "    </tr>\n",
       "    <tr>\n",
       "      <th>2</th>\n",
       "      <td>3</td>\n",
       "      <td>2</td>\n",
       "      <td>10.0</td>\n",
       "      <td>20.0</td>\n",
       "      <td>1</td>\n",
       "    </tr>\n",
       "    <tr>\n",
       "      <th>3</th>\n",
       "      <td>4</td>\n",
       "      <td>2</td>\n",
       "      <td>20.0</td>\n",
       "      <td>20.0</td>\n",
       "      <td>1</td>\n",
       "    </tr>\n",
       "    <tr>\n",
       "      <th>4</th>\n",
       "      <td>5</td>\n",
       "      <td>2</td>\n",
       "      <td>12.5</td>\n",
       "      <td>17.5</td>\n",
       "      <td>1</td>\n",
       "    </tr>\n",
       "  </tbody>\n",
       "</table>\n",
       "</div>"
      ],
      "text/plain": [
       "   obj_ID  point_value     x     y  level\n",
       "0       1            2  15.0  23.5      1\n",
       "1       2            2  15.0  20.0      1\n",
       "2       3            2  10.0  20.0      1\n",
       "3       4            2  20.0  20.0      1\n",
       "4       5            2  12.5  17.5      1"
      ]
     },
     "execution_count": 3,
     "metadata": {},
     "output_type": "execute_result"
    }
   ],
   "source": [
    "# load coconut location data for each level\n",
    "all_coco_location_data = pd.read_csv(\n",
    "    \"../../data/level_arrangements/all_levels_arrangements.csv\"\n",
    ")\n",
    "all_coco_location_data.iloc[0:5]"
   ]
  },
  {
   "cell_type": "markdown",
   "id": "3814eb7e",
   "metadata": {},
   "source": [
    "To simulate heuristic tactics, available coconuts are evaluated according to a rule. Nearest neighbor evaluation maximizes inverse distance from a forager's current location and a harvestable coconut. Turning angle minimization minimizes the turning angle (approach angle minus the exit angle) to a harvestable coconut. Clustering maximizes the value of a harvestable coconut according to how close surrounding harvestable coconuts are to that coconut. "
   ]
  },
  {
   "cell_type": "markdown",
   "id": "8f8b91af",
   "metadata": {},
   "source": [
    "#### Simulation\n",
    "With the evaluation methods established (see src/foraging_funs.py for code), I can implement them into an agent-based simulation where agents are specified to use different combinations of heuristics with different weightings for their foraging strategies. The simulation will output their foraging record (which coconuts were collected when) for analysis and visualization. To begin my exploration in my initial proposal, I started with a simulation of pure strategies pulling weights from a normal distribution above 0 and fixing point value weights to 1. With this, I can theoretically parse the differences in outcomes like performance, route routineness/traplining, and route geometry. "
   ]
  },
  {
   "cell_type": "code",
   "execution_count": 4,
   "id": "3c64ddf1",
   "metadata": {},
   "outputs": [],
   "source": [
    "# init distance matrices\n",
    "%run ../src/foraging_funs.py\n",
    "d = create_distance_matrices(all_coco_location_data)"
   ]
  },
  {
   "cell_type": "code",
   "execution_count": null,
   "id": "a4c81240",
   "metadata": {},
   "outputs": [],
   "source": [
    "# simulating forages by agents valuing heuristics differently\n",
    "def simulate_forages(\n",
    "    n_agents=100, lvl_obj_locs=all_coco_location_data, lvl_dist_ms=d,\n",
    "    wt_dist_par=[0, 1]\n",
    "):\n",
    "\n",
    "    # strats\n",
    "    strat_list = ['nn', 'ta', 'clst']\n",
    "\n",
    "    # run through each foraging strategy\n",
    "    for strat_i in range(0, len(strat_list)):\n",
    "\n",
    "        # loop through agent pool\n",
    "        for agent_no in tqdm(range(n_agents)):\n",
    "\n",
    "            # assign unique weights\n",
    "            weights = np.random.normal(wt_dist_par[0], wt_dist_par[1], 4)\n",
    "            # fix points to 1\n",
    "            weights[3] = 1\n",
    "\n",
    "            if strat_list[strat_i] == 'nn':\n",
    "                weights[[1, 2]] = 0\n",
    "            if strat_list[strat_i] == 'ta':\n",
    "                weights[[0, 2]] = 0\n",
    "            if strat_list[strat_i] == 'clst':\n",
    "                weights[[0, 1]] = 0\n",
    "\n",
    "            # loop through levels\n",
    "            for level_no in range(10):\n",
    "\n",
    "                # set the level locations and dist matrix to use\n",
    "                lvl = lvl_obj_locs[lvl_obj_locs.level == level_no+1]\n",
    "                lvl_m = lvl_dist_ms[level_no]\n",
    "\n",
    "                # let agent play the level and record results\n",
    "                forage_results = run_foraging_agent(\n",
    "                    lvl_coco_locs=lvl, lvl_dist_m=lvl_m, weights=weights,\n",
    "                    rps=[0, .01], clust_neighbors=2\n",
    "                )\n",
    "\n",
    "                # add level and agent identifiers\n",
    "                info_dict = {\n",
    "                    'strategy': [strat_list[strat_i] for i in range(len(forage_results))],\n",
    "                    'forager': [agent_no for i in range(len(forage_results))],\n",
    "                    'level': [level_no+1 for i in range(len(forage_results))]\n",
    "                }\n",
    "\n",
    "                # add to df\n",
    "                forage_results = forage_results.assign(**info_dict)\n",
    "\n",
    "                # if first run, init the df\n",
    "                if (strat_i == 0) and (agent_no == 0) and (level_no == 0):\n",
    "                    # create csv file\n",
    "                    forage_results.to_csv(\n",
    "                        '../../data/simulation/runs/pure_strats/simul_weighted_forages_10_20_25.csv',\n",
    "                        index=False\n",
    "                    )\n",
    "                # add to complete file\n",
    "                else:\n",
    "                    forage_results.to_csv(\n",
    "                        '../../data/simulation/runs/pure_strats/simul_weighted_forages_10_20_25.csv',\n",
    "                        mode='a', index=False, header=False\n",
    "                    )\n",
    "\n",
    "                # wipe from memory\n",
    "                del forage_results\n",
    "\n",
    "    print('Completed all forages.')"
   ]
  },
  {
   "cell_type": "code",
   "execution_count": null,
   "id": "4d76d03c",
   "metadata": {},
   "outputs": [
    {
     "name": "stderr",
     "output_type": "stream",
     "text": [
      "100%|██████████| 1/1 [00:23<00:00, 23.36s/it]\n",
      "100%|██████████| 1/1 [00:19<00:00, 19.90s/it]\n",
      "100%|██████████| 1/1 [00:22<00:00, 22.07s/it]"
     ]
    },
    {
     "name": "stdout",
     "output_type": "stream",
     "text": [
      "Completed all forages.\n"
     ]
    },
    {
     "name": "stderr",
     "output_type": "stream",
     "text": [
      "\n"
     ]
    },
    {
     "ename": "",
     "evalue": "",
     "output_type": "error",
     "traceback": [
      "\u001b[1;31mThe Kernel crashed while executing code in the current cell or a previous cell. \n",
      "\u001b[1;31mPlease review the code in the cell(s) to identify a possible cause of the failure. \n",
      "\u001b[1;31mClick <a href='https://aka.ms/vscodeJupyterKernelCrash'>here</a> for more info. \n",
      "\u001b[1;31mView Jupyter <a href='command:jupyter.viewOutput'>log</a> for further details."
     ]
    },
    {
     "ename": "",
     "evalue": "",
     "output_type": "error",
     "traceback": [
      "\u001b[1;31mThe Kernel crashed while executing code in the current cell or a previous cell. \n",
      "\u001b[1;31mPlease review the code in the cell(s) to identify a possible cause of the failure. \n",
      "\u001b[1;31mClick <a href='https://aka.ms/vscodeJupyterKernelCrash'>here</a> for more info. \n",
      "\u001b[1;31mView Jupyter <a href='command:jupyter.viewOutput'>log</a> for further details."
     ]
    }
   ],
   "source": [
    "simulate_forages(n_agents=1, wt_dist_par=[2, 1])"
   ]
  },
  {
   "cell_type": "code",
   "execution_count": null,
   "id": "8e41cb40",
   "metadata": {},
   "outputs": [
    {
     "ename": "",
     "evalue": "",
     "output_type": "error",
     "traceback": [
      "\u001b[1;31mFailed to start the Kernel. \n",
      "\u001b[1;31mAssertion failed: error not defined [8] (C:\\Users\\runneradmin\\AppData\\Local\\Temp\\tmpm74nglni\\build\\_deps\\bundled_libzmq-src\\src\\ip.cpp:464). \n",
      "\u001b[1;31mView Jupyter <a href='command:jupyter.viewOutput'>log</a> for further details."
     ]
    }
   ],
   "source": [
    "# check out data\n",
    "runs = pd.read_csv(\n",
    "    '../../data/simulation/runs/pure_strats/simul_weighted_forages_10_20_25.csv')\n",
    "\n",
    "pd.head(runs)"
   ]
  },
  {
   "cell_type": "code",
   "execution_count": null,
   "id": "c9a103d6",
   "metadata": {},
   "outputs": [
    {
     "data": {
      "image/png": "[encoded data removed]",
      "text/plain": [
       "<Figure size 640x480 with 1 Axes>"
      ]
     },
     "metadata": {},
     "output_type": "display_data"
    }
   ],
   "source": [
    "# set level here\n",
    "l = 6\n",
    "\n",
    "lvl = all_coco_location_data[all_coco_location_data.level == l]\n",
    "\n",
    "lvl_m = d[l-1]\n",
    "\n",
    "weights = np.random.normal(.3, .15, 4)\n",
    "\n",
    "# run one forage and view results\n",
    "%run ../src/foraging_funs.py\n",
    "forage_df = run_foraging_agent(\n",
    "\n",
    "    lvl_coco_locs=lvl, lvl_dist_m=lvl_m, weights=weights, rps=[0, .01], clust_neighbors=2\n",
    ")\n",
    "\n",
    "# plot path\n",
    "plt.scatter(lvl.x, lvl.y, s=[i * 20 for i in lvl.point_value], c='grey')\n",
    "\n",
    "\n",
    "plt.plot(forage_df.x, forage_df.y, marker = 'o', linestyle='-', color='green')\n",
    "plt.title(\n",
    "    'Distance: ' + str(round(sum(forage_df.dist), 0)) +\n",
    "    '\\nTime: ' + str(round(np.max(forage_df.time), 0)) + \n",
    "    '\\nWeights: ' + str([str(round(w, 2)) for w in weights]), loc='left'\n",
    ")\n",
    "\n",
    "\n",
    "plt.show()"
   ]
  },
  {
   "cell_type": "code",
   "execution_count": 120,
   "id": "9ed91d6f",
   "metadata": {},
   "outputs": [
    {
     "data": {
      "application/vnd.microsoft.datawrangler.viewer.v0+json": {
       "columns": [
        {
         "name": "index",
         "rawType": "int64",
         "type": "integer"
        },
        {
         "name": "nn_weight",
         "rawType": "float64",
         "type": "float"
        },
        {
         "name": "ta_weight",
         "rawType": "float64",
         "type": "float"
        },
        {
         "name": "clst_weight",
         "rawType": "float64",
         "type": "float"
        },
        {
         "name": "pv_weight",
         "rawType": "float64",
         "type": "float"
        },
        {
         "name": "obj_ID",
         "rawType": "int64",
         "type": "integer"
        },
        {
         "name": "x",
         "rawType": "float64",
         "type": "float"
        },
        {
         "name": "y",
         "rawType": "float64",
         "type": "float"
        },
        {
         "name": "point_value",
         "rawType": "float64",
         "type": "float"
        },
        {
         "name": "time",
         "rawType": "float64",
         "type": "float"
        },
        {
         "name": "dist",
         "rawType": "float64",
         "type": "float"
        },
        {
         "name": "points",
         "rawType": "float64",
         "type": "float"
        }
       ],
       "ref": "e1eb2756-4cb7-432c-92c8-f6059c6d230d",
       "rows": [
        [
         "0",
         "0.1578529974376884",
         "0.4522205183637523",
         "0.4598973477269427",
         "0.220239065095912",
         "15",
         "10.0",
         "5.0",
         "5.0",
         "0.9722034684781695",
         "11.180339887498949",
         "5.0"
        ],
        [
         "1",
         "0.1578529974376884",
         "0.4522205183637523",
         "0.4598973477269427",
         "0.220239065095912",
         "13",
         "12.5",
         "7.5",
         "4.0",
         "1.2796411994288424",
         "3.5355339059327378",
         "9.0"
        ],
        [
         "2",
         "0.1578529974376884",
         "0.4522205183637523",
         "0.4598973477269427",
         "0.220239065095912",
         "10",
         "15.0",
         "10.0",
         "2.0",
         "1.5870789303795152",
         "3.5355339059327378",
         "11.0"
        ],
        [
         "3",
         "0.1578529974376884",
         "0.4522205183637523",
         "0.4598973477269427",
         "0.220239065095912",
         "6",
         "12.5",
         "12.5",
         "2.0",
         "1.894516661330188",
         "3.5355339059327378",
         "13.0"
        ],
        [
         "4",
         "0.1578529974376884",
         "0.4522205183637523",
         "0.4598973477269427",
         "0.220239065095912",
         "3",
         "10.0",
         "15.0",
         "2.0",
         "2.201954392280861",
         "3.5355339059327378",
         "15.0"
        ]
       ],
       "shape": {
        "columns": 11,
        "rows": 5
       }
      },
      "text/html": [
       "<div>\n",
       "<style scoped>\n",
       "    .dataframe tbody tr th:only-of-type {\n",
       "        vertical-align: middle;\n",
       "    }\n",
       "\n",
       "    .dataframe tbody tr th {\n",
       "        vertical-align: top;\n",
       "    }\n",
       "\n",
       "    .dataframe thead th {\n",
       "        text-align: right;\n",
       "    }\n",
       "</style>\n",
       "<table border=\"1\" class=\"dataframe\">\n",
       "  <thead>\n",
       "    <tr style=\"text-align: right;\">\n",
       "      <th></th>\n",
       "      <th>nn_weight</th>\n",
       "      <th>ta_weight</th>\n",
       "      <th>clst_weight</th>\n",
       "      <th>pv_weight</th>\n",
       "      <th>obj_ID</th>\n",
       "      <th>x</th>\n",
       "      <th>y</th>\n",
       "      <th>point_value</th>\n",
       "      <th>time</th>\n",
       "      <th>dist</th>\n",
       "      <th>points</th>\n",
       "    </tr>\n",
       "  </thead>\n",
       "  <tbody>\n",
       "    <tr>\n",
       "      <th>0</th>\n",
       "      <td>0.157853</td>\n",
       "      <td>0.452221</td>\n",
       "      <td>0.459897</td>\n",
       "      <td>0.220239</td>\n",
       "      <td>15</td>\n",
       "      <td>10.0</td>\n",
       "      <td>5.0</td>\n",
       "      <td>5.0</td>\n",
       "      <td>0.972203</td>\n",
       "      <td>11.180340</td>\n",
       "      <td>5.0</td>\n",
       "    </tr>\n",
       "    <tr>\n",
       "      <th>1</th>\n",
       "      <td>0.157853</td>\n",
       "      <td>0.452221</td>\n",
       "      <td>0.459897</td>\n",
       "      <td>0.220239</td>\n",
       "      <td>13</td>\n",
       "      <td>12.5</td>\n",
       "      <td>7.5</td>\n",
       "      <td>4.0</td>\n",
       "      <td>1.279641</td>\n",
       "      <td>3.535534</td>\n",
       "      <td>9.0</td>\n",
       "    </tr>\n",
       "    <tr>\n",
       "      <th>2</th>\n",
       "      <td>0.157853</td>\n",
       "      <td>0.452221</td>\n",
       "      <td>0.459897</td>\n",
       "      <td>0.220239</td>\n",
       "      <td>10</td>\n",
       "      <td>15.0</td>\n",
       "      <td>10.0</td>\n",
       "      <td>2.0</td>\n",
       "      <td>1.587079</td>\n",
       "      <td>3.535534</td>\n",
       "      <td>11.0</td>\n",
       "    </tr>\n",
       "    <tr>\n",
       "      <th>3</th>\n",
       "      <td>0.157853</td>\n",
       "      <td>0.452221</td>\n",
       "      <td>0.459897</td>\n",
       "      <td>0.220239</td>\n",
       "      <td>6</td>\n",
       "      <td>12.5</td>\n",
       "      <td>12.5</td>\n",
       "      <td>2.0</td>\n",
       "      <td>1.894517</td>\n",
       "      <td>3.535534</td>\n",
       "      <td>13.0</td>\n",
       "    </tr>\n",
       "    <tr>\n",
       "      <th>4</th>\n",
       "      <td>0.157853</td>\n",
       "      <td>0.452221</td>\n",
       "      <td>0.459897</td>\n",
       "      <td>0.220239</td>\n",
       "      <td>3</td>\n",
       "      <td>10.0</td>\n",
       "      <td>15.0</td>\n",
       "      <td>2.0</td>\n",
       "      <td>2.201954</td>\n",
       "      <td>3.535534</td>\n",
       "      <td>15.0</td>\n",
       "    </tr>\n",
       "  </tbody>\n",
       "</table>\n",
       "</div>"
      ],
      "text/plain": [
       "   nn_weight  ta_weight  clst_weight  pv_weight  obj_ID     x     y  \\\n",
       "0   0.157853   0.452221     0.459897   0.220239      15  10.0   5.0   \n",
       "1   0.157853   0.452221     0.459897   0.220239      13  12.5   7.5   \n",
       "2   0.157853   0.452221     0.459897   0.220239      10  15.0  10.0   \n",
       "3   0.157853   0.452221     0.459897   0.220239       6  12.5  12.5   \n",
       "4   0.157853   0.452221     0.459897   0.220239       3  10.0  15.0   \n",
       "\n",
       "   point_value      time       dist  points  \n",
       "0          5.0  0.972203  11.180340     5.0  \n",
       "1          4.0  1.279641   3.535534     9.0  \n",
       "2          2.0  1.587079   3.535534    11.0  \n",
       "3          2.0  1.894517   3.535534    13.0  \n",
       "4          2.0  2.201954   3.535534    15.0  "
      ]
     },
     "execution_count": 120,
     "metadata": {},
     "output_type": "execute_result"
    }
   ],
   "source": [
    "forage_df.iloc[0:5]"
   ]
  },
  {
   "cell_type": "code",
   "execution_count": 77,
   "id": "8508f90c",
   "metadata": {},
   "outputs": [],
   "source": [
    "# find optimal weights with gradient descent\n",
    "# Here iterations, learning rate, stopping threshold are hyperparameters that can be tuned\n",
    "def gradient_descent(\n",
    "    level=int, starting_values=list, ldm=np.matrix, iterations=1000, learning_rate=0.001,\n",
    "    h=.01\n",
    "):\n",
    "    '''\n",
    "    Perform gradient descent to determine optimal parameter weights for \n",
    "    foraging heuristic values that create fastest completion times. \n",
    "    '''\n",
    "\n",
    "    # init level\n",
    "    lvl = all_coco_location_data[all_coco_location_data.level == level]\n",
    "\n",
    "    times = []\n",
    "    nn_wts = [starting_values[0]]\n",
    "    ta_wts = [starting_values[1]]\n",
    "    clst_wts = [starting_values[2]]\n",
    "\n",
    "    # Estimation of optimal parameters\n",
    "    for i in tqdm(range(iterations)):\n",
    "\n",
    "        # Calculating the current cost (time)\n",
    "        f_x_time = run_foraging_agent(\n",
    "            lvl_coco_locs=lvl, lvl_dist_m=ldm, additive=True, nn=True,\n",
    "            ta_min=True, cluster=True, weights=[\n",
    "                nn_wts[-1], ta_wts[-1], clst_wts[-1], 1\n",
    "            ],\n",
    "            rps=[0, .001]\n",
    "        )\n",
    "\n",
    "        times.append(f_x_time.time.iloc[-1])\n",
    "\n",
    "        # numerically calc derivative by adding small step to wts\n",
    "        f_nn_h_time = run_foraging_agent(\n",
    "            lvl_coco_locs=lvl, lvl_dist_m=ldm, additive=True, nn=True,\n",
    "            ta_min=True, cluster=True, weights=[\n",
    "                nn_wts[-1]+h, ta_wts[-1], clst_wts[-1], 1\n",
    "            ],\n",
    "            rps=[0, .001]\n",
    "        )\n",
    "        f_ta_h_time = run_foraging_agent(\n",
    "            lvl_coco_locs=lvl, lvl_dist_m=ldm, additive=True, nn=True,\n",
    "            ta_min=True, cluster=True, weights=[\n",
    "                nn_wts[-1], ta_wts[-1]+h, clst_wts[-1], 1\n",
    "            ],\n",
    "            rps=[0, .001]\n",
    "        )\n",
    "        f_clst_h_time = run_foraging_agent(\n",
    "            lvl_coco_locs=lvl, lvl_dist_m=ldm, additive=True, nn=True,\n",
    "            ta_min=True, cluster=True, weights=[\n",
    "                nn_wts[-1], ta_wts[-1], clst_wts[-1]+h, 1\n",
    "            ],\n",
    "            rps=[0, .001]\n",
    "        )\n",
    "\n",
    "        # compute partial derivative for each wt\n",
    "        deriv_time_nn = (\n",
    "            f_nn_h_time.time.iloc[-1] - times[-1]\n",
    "        ) / h\n",
    "        deriv_time_ta = (\n",
    "            f_ta_h_time.time.iloc[-1] - times[-1]\n",
    "        ) / h\n",
    "        deriv_time_clst = (\n",
    "            f_clst_h_time.time.iloc[-1] - times[-1]\n",
    "        ) / h\n",
    "\n",
    "        # choose a new learning rate if reaching optima\n",
    "        if i == 0:\n",
    "            learning_rate = learning_rate\n",
    "        if i != 0 and times[-1] < times[-2]:\n",
    "            learning_rate += np.random.normal(learning_rate*2,\n",
    "                                              learning_rate/2, 1)\n",
    "\n",
    "        # Calculating the gradients and use to update weights and times\n",
    "        nn_wts.append(nn_wts[-1] - learning_rate * deriv_time_nn)\n",
    "        ta_wts.append(ta_wts[-1] - learning_rate * deriv_time_ta)\n",
    "        clst_wts.append(clst_wts[-1] - learning_rate * deriv_time_clst)\n",
    "\n",
    "        # # determine if some minima has been reached\n",
    "        # if deriv_time_nn + deriv_time_ta + deriv_time_clst < 1e-6:\n",
    "        #     break\n",
    "\n",
    "    # get time for last wts\n",
    "    f_x_time = run_foraging_agent(\n",
    "        lvl_coco_locs=lvl, lvl_dist_m=ldm, additive=True, nn=True,\n",
    "        ta_min=True, cluster=True, weights=[\n",
    "            nn_wts[-1], ta_wts[-1], clst_wts[-1], 1\n",
    "        ],\n",
    "        rps=[0, .001]\n",
    "    )\n",
    "\n",
    "    times.append(f_x_time.time.iloc[-1])\n",
    "\n",
    "    gddf = pd.DataFrame({\n",
    "        'nn_wts': nn_wts,\n",
    "        'ta_wts': ta_wts,\n",
    "        'clst_wts': clst_wts,\n",
    "        'times': times\n",
    "    })\n",
    "\n",
    "    return gddf"
   ]
  },
  {
   "cell_type": "code",
   "execution_count": 85,
   "id": "549ec1a7",
   "metadata": {},
   "outputs": [
    {
     "name": "stderr",
     "output_type": "stream",
     "text": [
      "100%|██████████| 10/10 [01:14<00:00,  7.42s/it]\n"
     ]
    },
    {
     "data": {
      "application/vnd.microsoft.datawrangler.viewer.v0+json": {
       "columns": [
        {
         "name": "index",
         "rawType": "int64",
         "type": "integer"
        },
        {
         "name": "nn_wts",
         "rawType": "object",
         "type": "unknown"
        },
        {
         "name": "ta_wts",
         "rawType": "object",
         "type": "unknown"
        },
        {
         "name": "clst_wts",
         "rawType": "object",
         "type": "unknown"
        },
        {
         "name": "times",
         "rawType": "float64",
         "type": "float"
        }
       ],
       "ref": "450a1d58-e75e-4693-a99f-f074ea1ebbc3",
       "rows": [
        [
         "0",
         "0",
         "0",
         "0",
         "407.9432869825269"
        ],
        [
         "1",
         "15.153670100929004",
         "12.424949887738265",
         "-1.4201658984980499",
         "125.43259974102776"
        ],
        [
         "2",
         "[15.06412812]",
         "[12.24985232]",
         "[-1.15667621]",
         "130.16310019452843"
        ],
        [
         "3",
         "[15.66263702]",
         "[12.65440621]",
         "[-0.64770929]",
         "125.43259974102774"
        ],
        [
         "4",
         "[14.35831529]",
         "[13.46683829]",
         "[-0.92379893]",
         "118.55933336618311"
        ],
        [
         "5",
         "[14.35831529]",
         "[13.46683829]",
         "[-0.92379893]",
         "118.55933336618311"
        ],
        [
         "6",
         "[14.35831529]",
         "[13.46683829]",
         "[-0.92379893]",
         "118.55933336618311"
        ],
        [
         "7",
         "[14.35831529]",
         "[13.46683829]",
         "[-0.92379893]",
         "118.55933336618311"
        ],
        [
         "8",
         "[14.35831529]",
         "[13.46683829]",
         "[-0.92379893]",
         "118.55933336618311"
        ],
        [
         "9",
         "[14.35831529]",
         "[13.46683829]",
         "[-0.92379893]",
         "118.55933336618311"
        ],
        [
         "10",
         "[14.35831529]",
         "[13.46683829]",
         "[-0.92379893]",
         "118.55933336618311"
        ]
       ],
       "shape": {
        "columns": 4,
        "rows": 11
       }
      },
      "text/html": [
       "<div>\n",
       "<style scoped>\n",
       "    .dataframe tbody tr th:only-of-type {\n",
       "        vertical-align: middle;\n",
       "    }\n",
       "\n",
       "    .dataframe tbody tr th {\n",
       "        vertical-align: top;\n",
       "    }\n",
       "\n",
       "    .dataframe thead th {\n",
       "        text-align: right;\n",
       "    }\n",
       "</style>\n",
       "<table border=\"1\" class=\"dataframe\">\n",
       "  <thead>\n",
       "    <tr style=\"text-align: right;\">\n",
       "      <th></th>\n",
       "      <th>nn_wts</th>\n",
       "      <th>ta_wts</th>\n",
       "      <th>clst_wts</th>\n",
       "      <th>times</th>\n",
       "    </tr>\n",
       "  </thead>\n",
       "  <tbody>\n",
       "    <tr>\n",
       "      <th>0</th>\n",
       "      <td>0</td>\n",
       "      <td>0</td>\n",
       "      <td>0</td>\n",
       "      <td>407.943287</td>\n",
       "    </tr>\n",
       "    <tr>\n",
       "      <th>1</th>\n",
       "      <td>15.15367</td>\n",
       "      <td>12.42495</td>\n",
       "      <td>-1.420166</td>\n",
       "      <td>125.432600</td>\n",
       "    </tr>\n",
       "    <tr>\n",
       "      <th>2</th>\n",
       "      <td>[15.064128123891468]</td>\n",
       "      <td>[12.24985232334651]</td>\n",
       "      <td>[-1.1566762056130748]</td>\n",
       "      <td>130.163100</td>\n",
       "    </tr>\n",
       "    <tr>\n",
       "      <th>3</th>\n",
       "      <td>[15.662637015066581]</td>\n",
       "      <td>[12.654406211207894]</td>\n",
       "      <td>[-0.647709291475493]</td>\n",
       "      <td>125.432600</td>\n",
       "    </tr>\n",
       "    <tr>\n",
       "      <th>4</th>\n",
       "      <td>[14.35831528655599]</td>\n",
       "      <td>[13.466838286166416]</td>\n",
       "      <td>[-0.9237989305197568]</td>\n",
       "      <td>118.559333</td>\n",
       "    </tr>\n",
       "    <tr>\n",
       "      <th>5</th>\n",
       "      <td>[14.35831528655599]</td>\n",
       "      <td>[13.466838286166416]</td>\n",
       "      <td>[-0.9237989305197568]</td>\n",
       "      <td>118.559333</td>\n",
       "    </tr>\n",
       "    <tr>\n",
       "      <th>6</th>\n",
       "      <td>[14.35831528655599]</td>\n",
       "      <td>[13.466838286166416]</td>\n",
       "      <td>[-0.9237989305197568]</td>\n",
       "      <td>118.559333</td>\n",
       "    </tr>\n",
       "    <tr>\n",
       "      <th>7</th>\n",
       "      <td>[14.35831528655599]</td>\n",
       "      <td>[13.466838286166416]</td>\n",
       "      <td>[-0.9237989305197568]</td>\n",
       "      <td>118.559333</td>\n",
       "    </tr>\n",
       "    <tr>\n",
       "      <th>8</th>\n",
       "      <td>[14.35831528655599]</td>\n",
       "      <td>[13.466838286166416]</td>\n",
       "      <td>[-0.9237989305197568]</td>\n",
       "      <td>118.559333</td>\n",
       "    </tr>\n",
       "    <tr>\n",
       "      <th>9</th>\n",
       "      <td>[14.35831528655599]</td>\n",
       "      <td>[13.466838286166416]</td>\n",
       "      <td>[-0.9237989305197568]</td>\n",
       "      <td>118.559333</td>\n",
       "    </tr>\n",
       "    <tr>\n",
       "      <th>10</th>\n",
       "      <td>[14.35831528655599]</td>\n",
       "      <td>[13.466838286166416]</td>\n",
       "      <td>[-0.9237989305197568]</td>\n",
       "      <td>118.559333</td>\n",
       "    </tr>\n",
       "  </tbody>\n",
       "</table>\n",
       "</div>"
      ],
      "text/plain": [
       "                  nn_wts                ta_wts               clst_wts  \\\n",
       "0                      0                     0                      0   \n",
       "1               15.15367              12.42495              -1.420166   \n",
       "2   [15.064128123891468]   [12.24985232334651]  [-1.1566762056130748]   \n",
       "3   [15.662637015066581]  [12.654406211207894]   [-0.647709291475493]   \n",
       "4    [14.35831528655599]  [13.466838286166416]  [-0.9237989305197568]   \n",
       "5    [14.35831528655599]  [13.466838286166416]  [-0.9237989305197568]   \n",
       "6    [14.35831528655599]  [13.466838286166416]  [-0.9237989305197568]   \n",
       "7    [14.35831528655599]  [13.466838286166416]  [-0.9237989305197568]   \n",
       "8    [14.35831528655599]  [13.466838286166416]  [-0.9237989305197568]   \n",
       "9    [14.35831528655599]  [13.466838286166416]  [-0.9237989305197568]   \n",
       "10   [14.35831528655599]  [13.466838286166416]  [-0.9237989305197568]   \n",
       "\n",
       "         times  \n",
       "0   407.943287  \n",
       "1   125.432600  \n",
       "2   130.163100  \n",
       "3   125.432600  \n",
       "4   118.559333  \n",
       "5   118.559333  \n",
       "6   118.559333  \n",
       "7   118.559333  \n",
       "8   118.559333  \n",
       "9   118.559333  \n",
       "10  118.559333  "
      ]
     },
     "execution_count": 85,
     "metadata": {},
     "output_type": "execute_result"
    }
   ],
   "source": [
    "%run ../src/foraging_funs.py\n",
    "# set level here\n",
    "l = 2\n",
    "\n",
    "gddf = gradient_descent(\n",
    "    l, [0, 0, 0], d[l-1], 10, .005, .1\n",
    ")\n",
    "gddf"
   ]
  },
  {
   "cell_type": "code",
   "execution_count": 86,
   "id": "7375792b",
   "metadata": {},
   "outputs": [],
   "source": [
    "best_wts = gddf.iloc[np.argmin(gddf.times)]"
   ]
  },
  {
   "cell_type": "code",
   "execution_count": 92,
   "id": "63d4b877",
   "metadata": {},
   "outputs": [
    {
     "name": "stdout",
     "output_type": "stream",
     "text": [
      "[array([14.35831529]), array([13.46683829]), array([-0.92379893]), 1.0]\n"
     ]
    },
    {
     "data": {
      "image/png": "[encoded data removed]",
      "text/plain": [
       "<Figure size 640x480 with 1 Axes>"
      ]
     },
     "metadata": {},
     "output_type": "display_data"
    }
   ],
   "source": [
    "%run ../src/foraging_funs.py\n",
    "lvl = all_coco_location_data[all_coco_location_data.level == l]\n",
    "\n",
    "weights = [best_wts.iloc[i] for i in range(3)]\n",
    "\n",
    "weights.append(1.00)\n",
    "\n",
    "forage_df = run_foraging_agent(\n",
    "\n",
    "    lvl_coco_locs=lvl, lvl_dist_m=d[l-1], additive=True, nn=True, ta_min=True, cluster=True,\n",
    "\n",
    "    weights=weights, rps=[0, .001], clust_neighbors=3\n",
    ")\n",
    "\n",
    "# plot path\n",
    "plt.scatter(lvl.x, lvl.y, s=[i * 20 for i in lvl.point_value], c='grey')\n",
    "\n",
    "\n",
    "plt.plot(forage_df.x, forage_df.y, marker = 'o', linestyle='-', color='green')\n",
    "plt.title(\n",
    "    'Distance: ' + str(round(sum(forage_df.dist), 0)) +\n",
    "    '\\nTime: ' + str(round(np.max(forage_df.time), 0)), loc='left'\n",
    ")\n",
    "\n",
    "print(weights)\n",
    "plt.show()"
   ]
  },
  {
   "cell_type": "code",
   "execution_count": 93,
   "id": "526b933b",
   "metadata": {},
   "outputs": [
    {
     "data": {
      "text/plain": [
       "Text(0.5, 0.92, 'Gradient descent results')"
      ]
     },
     "execution_count": 93,
     "metadata": {},
     "output_type": "execute_result"
    },
    {
     "data": {
      "image/png": "[encoded data removed]",
      "text/plain": [
       "<Figure size 640x480 with 1 Axes>"
      ]
     },
     "metadata": {},
     "output_type": "display_data"
    }
   ],
   "source": [
    "fig = plt.figure()\n",
    "ax = fig.add_subplot(111, projection='3d')\n",
    "ax.plot(gddf.nn_wts, gddf.clst_wts, gddf.times, linewidth=2, marker=True)\n",
    "ax.set_xlabel('nn weights')\n",
    "ax.set_ylabel('cluster weights')\n",
    "ax.set_zlabel('time')\n",
    "ax.set_title('Gradient descent results')"
   ]
  },
  {
   "cell_type": "code",
   "execution_count": 33,
   "id": "5809ac2f",
   "metadata": {},
   "outputs": [
    {
     "data": {
      "application/vnd.microsoft.datawrangler.viewer.v0+json": {
       "columns": [
        {
         "name": "index",
         "rawType": "object",
         "type": "string"
        },
        {
         "name": "0",
         "rawType": "object",
         "type": "unknown"
        }
       ],
       "ref": "27f9de92-4ac1-4b48-9000-42ec662a7348",
       "rows": [
        [
         "nn_wts",
         "1"
        ],
        [
         "clst_wts",
         "1"
        ],
        [
         "times",
         "138.94153792165585"
        ]
       ],
       "shape": {
        "columns": 1,
        "rows": 3
       }
      },
      "text/plain": [
       "nn_wts               1\n",
       "clst_wts             1\n",
       "times       138.941538\n",
       "Name: 0, dtype: object"
      ]
     },
     "execution_count": 33,
     "metadata": {},
     "output_type": "execute_result"
    }
   ],
   "source": [
    "gddf.iloc[np.argmin(gddf.times)]"
   ]
  }
 ],
 "metadata": {
  "kernelspec": {
   "display_name": ".venv",
   "language": "python",
   "name": "python3"
  },
  "language_info": {
   "codemirror_mode": {
    "name": "ipython",
    "version": 3
   },
   "file_extension": ".py",
   "mimetype": "text/x-python",
   "name": "python",
   "nbconvert_exporter": "python",
   "pygments_lexer": "ipython3",
   "version": "3.13.2"
  }
 },
 "nbformat": 4,
 "nbformat_minor": 5
}
